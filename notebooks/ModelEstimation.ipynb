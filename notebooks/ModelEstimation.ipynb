{
 "cells": [
  {
   "cell_type": "code",
   "execution_count": 29,
   "metadata": {},
   "outputs": [],
   "source": [
    "import sys\n",
    "sys.path.append('..')\n",
    "\n",
    "import numpy as np\n",
    "import os\n",
    "import torch\n",
    "import train_helpers\n",
    "\n",
    "from dataset import TARGET_LABEL_NAMES\n",
    "\n",
    "os.environ['CUDA_VISIBLE_DEVICES'] = \"6\"\n",
    "os.environ['CUDA_DEVICE_ORDER'] = \"PCI_BUS_ID\"\n",
    "\n",
    "import matplotlib.pyplot as plt\n",
    "%matplotlib inline"
   ]
  },
  {
   "cell_type": "code",
   "execution_count": 30,
   "metadata": {},
   "outputs": [],
   "source": [
    "state = torch.load('../log/checkpoint.best.pth.tar')"
   ]
  },
  {
   "cell_type": "code",
   "execution_count": 31,
   "metadata": {},
   "outputs": [
    {
     "data": {
      "text/plain": [
       "dict_keys(['epoch', 'best_loss', 'best_metrics', 'val_metrics_history', 'train_metrics_history', 'model', 'model_state_dict', 'optimizer', 'optimizer_state_dict'])"
      ]
     },
     "execution_count": 31,
     "metadata": {},
     "output_type": "execute_result"
    }
   ],
   "source": [
    "state.keys()"
   ]
  },
  {
   "cell_type": "code",
   "execution_count": 32,
   "metadata": {},
   "outputs": [
    {
     "data": {
      "text/plain": [
       "<Figure size 576x504 with 0 Axes>"
      ]
     },
     "metadata": {},
     "output_type": "display_data"
    },
    {
     "data": {
      "image/png": "[encoded data removed]",
      "text/plain": [
       "<Figure size 288x288 with 2 Axes>"
      ]
     },
     "metadata": {},
     "output_type": "display_data"
    }
   ],
   "source": [
    "confusion_matrix = state['val_metrics_history'][state['epoch'] - 1]['confusion_matrix']\n",
    "confusion_matrix = confusion_matrix / np.sum(confusion_matrix, axis=1, keepdims=True)\n",
    "\n",
    "plt.figure(figsize=(8, 7));\n",
    "plt.matshow(confusion_matrix, cmap='gray');\n",
    "plt.xticks(range(len(TARGET_LABEL_NAMES)), TARGET_LABEL_NAMES);\n",
    "plt.yticks(range(len(TARGET_LABEL_NAMES)), TARGET_LABEL_NAMES);\n",
    "plt.colorbar();"
   ]
  },
  {
   "cell_type": "code",
   "execution_count": 33,
   "metadata": {},
   "outputs": [
    {
     "data": {
      "image/png": "[encoded data removed]",
      "text/plain": [
       "<Figure size 936x360 with 1 Axes>"
      ]
     },
     "metadata": {},
     "output_type": "display_data"
    }
   ],
   "source": [
    "plt.figure(figsize=(13, 5))\n",
    "plt.plot([metrics['loss'] for metrics in state['train_metrics_history']], label='train')\n",
    "plt.plot([metrics['loss'] for metrics in state['val_metrics_history']], label='validation')\n",
    "plt.legend();"
   ]
  },
  {
   "cell_type": "code",
   "execution_count": 61,
   "metadata": {},
   "outputs": [
    {
     "name": "stdout",
     "output_type": "stream",
     "text": [
      "[[ 134    5    3   18    1    0   49]\n",
      " [   5   90    2    9    0    1    3]\n",
      " [   4    3   44   17    0    0    4]\n",
      " [   9    5    2  162    1    0   28]\n",
      " [   1    2    3    2   16    0    1]\n",
      " [   1    2    0    2    0   27    5]\n",
      " [  31    4    0   16    3    1 1287]]\n"
     ]
    }
   ],
   "source": [
    "cm = state['val_metrics_history'][state['epoch'] - 1]['confusion_matrix']\n",
    "print(cm)"
   ]
  },
  {
   "cell_type": "code",
   "execution_count": 51,
   "metadata": {},
   "outputs": [
    {
     "data": {
      "text/plain": [
       "0.8786819770344484"
      ]
     },
     "execution_count": 51,
     "metadata": {},
     "output_type": "execute_result"
    }
   ],
   "source": [
    "# Not-weighted accuracy\n",
    "np.sum(np.diag(cm) / np.sum(cm))"
   ]
  },
  {
   "cell_type": "code",
   "execution_count": 36,
   "metadata": {},
   "outputs": [
    {
     "data": {
      "text/plain": [
       "array([ 210,  110,   72,  207,   25,   37, 1342])"
      ]
     },
     "execution_count": 36,
     "metadata": {},
     "output_type": "execute_result"
    }
   ],
   "source": [
    "np.sum(cm, axis=1)"
   ]
  },
  {
   "cell_type": "code",
   "execution_count": 44,
   "metadata": {},
   "outputs": [
    {
     "data": {
      "text/plain": [
       "array([0.63809524, 0.81818182, 0.61111111, 0.7826087 , 0.64      ,\n",
       "       0.72972973, 0.95901639])"
      ]
     },
     "execution_count": 44,
     "metadata": {},
     "output_type": "execute_result"
    }
   ],
   "source": [
    "np.diag(cm) / np.sum(cm, axis=1)"
   ]
  },
  {
   "cell_type": "code",
   "execution_count": 65,
   "metadata": {},
   "outputs": [
    {
     "data": {
      "text/plain": [
       "0.7398204266018134"
      ]
     },
     "execution_count": 65,
     "metadata": {},
     "output_type": "execute_result"
    }
   ],
   "source": [
    "# Weighted accuracy\n",
    "np.mean(np.diag(cm) / np.sum(cm, axis=1))"
   ]
  },
  {
   "cell_type": "code",
   "execution_count": 60,
   "metadata": {},
   "outputs": [
    {
     "data": {
      "text/plain": [
       "array([0.04745542, 0.09059671, 0.13841164, 0.04814318, 0.39862552,\n",
       "       0.26934157, 0.00742596])"
      ]
     },
     "execution_count": 60,
     "metadata": {},
     "output_type": "execute_result"
    }
   ],
   "source": [
    "weights"
   ]
  },
  {
   "cell_type": "code",
   "execution_count": 48,
   "metadata": {},
   "outputs": [
    {
     "data": {
      "text/plain": [
       "0.8767488624795057"
      ]
     },
     "execution_count": 48,
     "metadata": {},
     "output_type": "execute_result"
    }
   ],
   "source": [
    "# Weighted precision\n",
    "weights = np.sum(cm, axis=1) / np.sum(cm)\n",
    "np.sum(np.diag(cm) / np.sum(cm, axis=0) * weights)"
   ]
  },
  {
   "cell_type": "code",
   "execution_count": 66,
   "metadata": {},
   "outputs": [
    {
     "data": {
      "text/plain": [
       "0.8786819770344483"
      ]
     },
     "execution_count": 66,
     "metadata": {},
     "output_type": "execute_result"
    }
   ],
   "source": [
    "# Weighted recall (sensitivity)\n",
    "weights = np.sum(cm, axis=1) / np.sum(cm)\n",
    "np.sum(np.diag(cm) / np.sum(cm, axis=1) * weights)"
   ]
  }
 ],
 "metadata": {
  "kernelspec": {
   "display_name": "Python 3",
   "language": "python",
   "name": "python3"
  },
  "language_info": {
   "codemirror_mode": {
    "name": "ipython",
    "version": 3
   },
   "file_extension": ".py",
   "mimetype": "text/x-python",
   "name": "python",
   "nbconvert_exporter": "python",
   "pygments_lexer": "ipython3",
   "version": "3.6.4"
  }
 },
 "nbformat": 4,
 "nbformat_minor": 2
}
